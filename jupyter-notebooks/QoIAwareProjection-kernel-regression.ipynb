{
 "cells": [
  {
   "cell_type": "markdown",
   "metadata": {},
   "source": [
    "<a id=top-page></a>\n",
    "# Kernel regression\n",
    "\n",
    "***"
   ]
  },
  {
   "cell_type": "code",
   "execution_count": 1,
   "metadata": {},
   "outputs": [
    {
     "name": "stdout",
     "output_type": "stream",
     "text": [
      "numpy==1.21.6\n",
      "pandas==1.3.5\n",
      "PCAfold==2.0.0\n",
      "scipy==1.7.3\n"
     ]
    }
   ],
   "source": [
    "%run -i imports.py\n",
    "%matplotlib inline"
   ]
  },
  {
   "cell_type": "markdown",
   "metadata": {},
   "source": [
    "### Select one dataset:"
   ]
  },
  {
   "cell_type": "code",
   "execution_count": 2,
   "metadata": {},
   "outputs": [],
   "source": [
    "data_tag = 'H2-air'\n",
    "# data_tag = 'CO-H2-air'\n",
    "# data_tag = 'CH4-air'\n",
    "# data_tag = 'C2H4-air'"
   ]
  },
  {
   "cell_type": "code",
   "execution_count": 3,
   "metadata": {},
   "outputs": [
    {
     "name": "stdout",
     "output_type": "stream",
     "text": [
      "\n",
      "The data set has 58101 observations.\n",
      "\n",
      "The data set has 9 variables.\n"
     ]
    },
    {
     "data": {
      "text/plain": [
       "array(['T', 'H2', 'OH', 'H2O', 'O2', 'H2O2'], dtype=object)"
      ]
     },
     "execution_count": 3,
     "metadata": {},
     "output_type": "execute_result"
    }
   ],
   "source": [
    "########################################################################\n",
    "## Load data - Hydrogen/air flamelet\n",
    "########################################################################\n",
    "\n",
    "if data_tag == 'H2-air':\n",
    "    \n",
    "    state_space = pd.read_csv('../data/' + data_tag + '-state-space.csv', sep = ',', header=None).to_numpy()[:,0:-2]\n",
    "    state_space_sources = pd.read_csv('../data/' + data_tag + '-state-space-sources.csv', sep = ',', header=None).to_numpy()[:,0:-2]\n",
    "    state_space_names = pd.read_csv('../data/' + data_tag + '-state-space-names.csv', sep = ',', header=None).to_numpy().ravel()[0:-2]\n",
    "\n",
    "    selected_state_variables = [0, 2, 4, 5, 6, 8]\n",
    "\n",
    "########################################################################\n",
    "## Load data - Syngas/air flamelet\n",
    "########################################################################\n",
    "\n",
    "if data_tag == 'CO-H2-air':\n",
    "    \n",
    "    state_space = pd.read_csv('../data/' + data_tag + '-state-space.csv', sep = ',', header=None).to_numpy()[:,0:-1]\n",
    "    state_space_sources = pd.read_csv('../data/' + data_tag + '-state-space-sources.csv', sep = ',', header=None).to_numpy()[:,0:-1]\n",
    "    state_space_names = pd.read_csv('../data/' + data_tag + '-state-space-names.csv', sep = ',', header=None).to_numpy().ravel()[0:-1]\n",
    "\n",
    "    (n_observations, n_variables) = np.shape(state_space)\n",
    "\n",
    "    print('\\nThe data set has ' + str(n_observations) + ' observations.')\n",
    "    print('\\nThe data set has ' + str(n_variables) + ' variables.')\n",
    "\n",
    "    selected_state_variables = [0, 1, 2, 4, 5, 8, 9]\n",
    "\n",
    "########################################################################\n",
    "## Load data - Methane/air flamelet\n",
    "########################################################################\n",
    "\n",
    "if data_tag == 'CH4-air':\n",
    "   \n",
    "    state_space = pd.read_csv('../data/' + data_tag + '-state-space.csv', sep = ',', header=None).to_numpy()[:,0:-1]\n",
    "    state_space_sources = pd.read_csv('../data/' + data_tag + '-state-space-sources.csv', sep = ',', header=None).to_numpy()[:,0:-1]\n",
    "    state_space_names = pd.read_csv('../data/' + data_tag + '-state-space-names.csv', sep = ',', header=None).to_numpy().ravel()[0:-1]\n",
    "\n",
    "    species_to_remove = 'N2'\n",
    "    (species_index, ) = np.where(state_space_names==species_to_remove)\n",
    "    state_space = np.delete(state_space, np.s_[species_index], axis=1)\n",
    "    state_space_sources = np.delete(state_space_sources, np.s_[species_index], axis=1)\n",
    "    state_space_names = np.delete(state_space_names, np.s_[species_index])\n",
    "\n",
    "    selected_state_variables = [0, 4, 5, 6, 14, 16]\n",
    "\n",
    "########################################################################\n",
    "## Load data - Ethylene/air flamelet\n",
    "########################################################################\n",
    "\n",
    "if data_tag == 'C2H4-air':\n",
    "   \n",
    "    state_space = pd.read_csv('../data/' + data_tag + '-state-space.csv', sep = ',', header=None).to_numpy()[:,0:-1]\n",
    "    state_space_sources = pd.read_csv('../data/' + data_tag + '-state-space-sources.csv', sep = ',', header=None).to_numpy()[:,0:-1]\n",
    "    state_space_names = pd.read_csv('../data/' + data_tag + '-state-space-names.csv', sep = ',', header=None).to_numpy().ravel()[0:-1]\n",
    "\n",
    "    selected_state_variables = [0, 4, 5, 6, 15, 22]\n",
    "\n",
    "(n_observations, n_variables) = np.shape(state_space)\n",
    "\n",
    "print('\\nThe data set has ' + str(n_observations) + ' observations.')\n",
    "print('\\nThe data set has ' + str(n_variables) + ' variables.')\n",
    "\n",
    "state_space_names[selected_state_variables]"
   ]
  },
  {
   "cell_type": "code",
   "execution_count": 4,
   "metadata": {},
   "outputs": [],
   "source": [
    "color_map_colors = cmc.batlow\n",
    "cluster_colors = color_map_colors(np.linspace(0, 1, 10))"
   ]
  },
  {
   "cell_type": "code",
   "execution_count": 5,
   "metadata": {},
   "outputs": [],
   "source": [
    "n_components = 2\n",
    "random_seeds_list = [i for i in range(0,100)]\n",
    "power = 4\n",
    "vertical_shift = 1\n",
    "if n_components == 2: decoder_architecture = (6,9,10)\n",
    "if n_components == 3: decoder_architecture = (7,10,11)\n",
    "penalty_function = 'log-sigma-over-peak'\n",
    "train_perc = 80\n",
    "n_neighbors = 100\n",
    "random_seeds_combined = np.vstack((random_seeds_list, random_seeds_list)).ravel()"
   ]
  },
  {
   "cell_type": "code",
   "execution_count": 6,
   "metadata": {},
   "outputs": [
    {
     "name": "stdout",
     "output_type": "stream",
     "text": [
      "2D-LDM-lr-0.001-bs-58101-n-epochs-20000-architecture\n"
     ]
    }
   ],
   "source": [
    "learning_rate = 0.001\n",
    "batch_size = n_observations\n",
    "n_epochs = 20000\n",
    "case_name = str(n_components) + 'D-LDM-lr-' + str(learning_rate) + '-bs-' + str(batch_size) + '-n-epochs-' + str(n_epochs) + '-architecture'\n",
    "print(case_name)"
   ]
  },
  {
   "cell_type": "code",
   "execution_count": 7,
   "metadata": {},
   "outputs": [],
   "source": [
    "architecture_without = str(n_variables) + '-' + str(n_components) + '-' + '-'.join([str(i) for i in decoder_architecture]) + '-' + str(len(selected_state_variables))\n",
    "architecture_with = str(n_variables) + '-' + str(n_components) + '-' + '-'.join([str(i) for i in decoder_architecture]) + '-' + str(len(selected_state_variables) + n_components*2)"
   ]
  },
  {
   "cell_type": "code",
   "execution_count": 8,
   "metadata": {},
   "outputs": [],
   "source": [
    "verbose = False"
   ]
  },
  {
   "cell_type": "code",
   "execution_count": 9,
   "metadata": {},
   "outputs": [],
   "source": [
    "# costs_without_Seta_1 = []\n",
    "# costs_without_Seta_2 = []\n",
    "# costs_without_Seta_3 = []\n",
    "# costs_with_Seta_1 = []\n",
    "# costs_with_Seta_2 = []\n",
    "# costs_with_Seta_3 = []\n",
    "\n",
    "# for random_seed in random_seeds_list:\n",
    "    \n",
    "#     if verbose: print('Random seed: ' + str(random_seed) + '...\\n')\n",
    "\n",
    "#     # Without Seta: - - - - - - - - - - - - - - - - - - - - - - - - - -\n",
    "    \n",
    "#     variance_data_without = pickle.load(open('../results/QoIAwareProjection-VarianceData-without-Seta-' + data_tag + '-SLF-' + case_name + '-' + architecture_without + '-random-seed-' + str(random_seed) + '.pkl', 'rb'))\n",
    "\n",
    "#     costs_without = analysis.cost_function_normalized_variance_derivative(variance_data_without,\n",
    "#                                                                         penalty_function=penalty_function,\n",
    "#                                                                         norm=None,\n",
    "#                                                                         power=power,\n",
    "#                                                                         vertical_shift=vertical_shift,\n",
    "#                                                                         integrate_to_peak=False)\n",
    "\n",
    "#     # With Seta: - - - - - - - - - - - - - - - - - - - - - - - - - - - \n",
    "    \n",
    "#     variance_data_with = pickle.load(open('../results/QoIAwareProjection-VarianceData-with-Seta-' + data_tag + '-SLF-' + case_name + '-' + architecture_with + '-random-seed-' + str(random_seed) + '.pkl', 'rb'))\n",
    "    \n",
    "#     costs_with = analysis.cost_function_normalized_variance_derivative(variance_data_with,\n",
    "#                                                                   penalty_function=penalty_function,\n",
    "#                                                                   norm=None,\n",
    "#                                                                   power=power,\n",
    "#                                                                   vertical_shift=vertical_shift,\n",
    "#                                                                   integrate_to_peak=False)\n",
    "\n",
    "#     # Upload the current cost statistics: - - - - - - - - - - - - - - -\n",
    "\n",
    "#     costs_without_Seta_1.append(costs_without[0])\n",
    "#     costs_without_Seta_2.append(costs_without[1])\n",
    "#     costs_without_Seta_3.append(costs_without[2])\n",
    "    \n",
    "#     costs_with_Seta_1.append(costs_with[0])\n",
    "#     costs_with_Seta_2.append(costs_with[1])\n",
    "#     costs_with_Seta_3.append(costs_with[2])"
   ]
  },
  {
   "cell_type": "code",
   "execution_count": 10,
   "metadata": {},
   "outputs": [],
   "source": [
    "# if n_components == 2:\n",
    "\n",
    "#     np.savetxt('../results/' + data_tag + '-SLF-cost-Seta-1-without-Seta-' + str(n_components) + 'D-LDM.csv', np.array(costs_without_Seta_1), delimiter=',', fmt='%.16e')\n",
    "#     np.savetxt('../results/' + data_tag + '-SLF-cost-Seta-2-without-Seta-' + str(n_components) + 'D-LDM.csv', np.array(costs_without_Seta_2), delimiter=',', fmt='%.16e')\n",
    "    \n",
    "#     np.savetxt('../results/' + data_tag + '-SLF-cost-Seta-1-with-Seta-' + str(n_components) + 'D-LDM.csv', np.array(costs_with_Seta_1), delimiter=',', fmt='%.16e')\n",
    "#     np.savetxt('../results/' + data_tag + '-SLF-cost-Seta-2-with-Seta-' + str(n_components) + 'D-LDM.csv', np.array(costs_with_Seta_2), delimiter=',', fmt='%.16e')\n",
    "    \n",
    "# if n_components == 3:\n",
    "\n",
    "#     np.savetxt('../results/' + data_tag + '-SLF-cost-Seta-1-without-Seta-' + str(n_components) + 'D-LDM.csv', np.array(costs_without_Seta_1), delimiter=',', fmt='%.16e')\n",
    "#     np.savetxt('../results/' + data_tag + '-SLF-cost-Seta-2-without-Seta-' + str(n_components) + 'D-LDM.csv', np.array(costs_without_Seta_2), delimiter=',', fmt='%.16e')\n",
    "#     np.savetxt('../results/' + data_tag + '-SLF-cost-Seta-3-without-Seta-' + str(n_components) + 'D-LDM.csv', np.array(costs_without_Seta_3), delimiter=',', fmt='%.16e')\n",
    "    \n",
    "#     np.savetxt('../results/' + data_tag + '-SLF-cost-Seta-1-with-Seta-' + str(n_components) + 'D-LDM.csv', np.array(costs_with_Seta_1), delimiter=',', fmt='%.16e')\n",
    "#     np.savetxt('../results/' + data_tag + '-SLF-cost-Seta-2-with-Seta-' + str(n_components) + 'D-LDM.csv', np.array(costs_with_Seta_2), delimiter=',', fmt='%.16e')\n",
    "#     np.savetxt('../results/' + data_tag + '-SLF-cost-Seta-3-with-Seta-' + str(n_components) + 'D-LDM.csv', np.array(costs_with_Seta_3), delimiter=',', fmt='%.16e')"
   ]
  },
  {
   "cell_type": "markdown",
   "metadata": {},
   "source": [
    "***\n",
    "\n",
    "## Plot results"
   ]
  },
  {
   "cell_type": "code",
   "execution_count": 11,
   "metadata": {},
   "outputs": [
    {
     "data": {
      "image/png": "[encoded data removed]",
      "text/plain": [
       "<Figure size 1080x288 with 6 Axes>"
      ]
     },
     "metadata": {
      "needs_background": "light"
     },
     "output_type": "display_data"
    }
   ],
   "source": [
    "s = 40\n",
    "fig = plt.figure(figsize=(15,4))\n",
    "spec = fig.add_gridspec(ncols=3, nrows=2, width_ratios=[1, 1, 1], height_ratios=[1,1])\n",
    "\n",
    "for n_components in [2,3]:\n",
    "\n",
    "    for j, data_tag in enumerate(['H2-air', 'CH4-air', 'C2H4-air']):\n",
    "        \n",
    "        # Upload data to plot: - - - - - - - - - - - - - - - - - - - - - - - - - - - - - - - - - - - - - - - - - - - - - - - - \n",
    "        \n",
    "        costs_without_Seta_1 = pd.read_csv('../results/' + data_tag + '-SLF-cost-Seta-1-without-Seta-' + str(n_components) + 'D-LDM.csv', sep = ',', header=None).to_numpy()\n",
    "        costs_without_Seta_2 = pd.read_csv('../results/' + data_tag + '-SLF-cost-Seta-2-without-Seta-' + str(n_components) + 'D-LDM.csv', sep = ',', header=None).to_numpy()\n",
    "\n",
    "        costs_with_Seta_1 = pd.read_csv('../results/' + data_tag + '-SLF-cost-Seta-1-with-Seta-' + str(n_components) + 'D-LDM.csv', sep = ',', header=None).to_numpy()\n",
    "        costs_with_Seta_2 = pd.read_csv('../results/' + data_tag + '-SLF-cost-Seta-2-with-Seta-' + str(n_components) + 'D-LDM.csv', sep = ',', header=None).to_numpy()\n",
    "\n",
    "        NRMSE_Seta_1_with = pd.read_csv('../results/' + data_tag + '-SLF-NRMSE-Seta-1-with-Seta-' + str(n_components) + 'D-LDM.csv', sep = ',', header=None).to_numpy()\n",
    "        NRMSE_Seta_2_with = pd.read_csv('../results/' + data_tag + '-SLF-NRMSE-Seta-2-with-Seta-' + str(n_components) + 'D-LDM.csv', sep = ',', header=None).to_numpy()\n",
    "        NRMSE_Seta_1_without = pd.read_csv('../results/' + data_tag + '-SLF-NRMSE-Seta-1-without-Seta-' + str(n_components) + 'D-LDM.csv', sep = ',', header=None).to_numpy()\n",
    "        NRMSE_Seta_2_without = pd.read_csv('../results/' + data_tag + '-SLF-NRMSE-Seta-2-without-Seta-' + str(n_components) + 'D-LDM.csv', sep = ',', header=None).to_numpy()\n",
    "\n",
    "        R2_Seta_1_with = pd.read_csv('../results/' + data_tag + '-SLF-R2-Seta-1-with-Seta-' + str(n_components) + 'D-LDM.csv', sep = ',', header=None).to_numpy()\n",
    "        R2_Seta_2_with = pd.read_csv('../results/' + data_tag + '-SLF-R2-Seta-2-with-Seta-' + str(n_components) + 'D-LDM.csv', sep = ',', header=None).to_numpy()\n",
    "        R2_Seta_1_without = pd.read_csv('../results/' + data_tag + '-SLF-R2-Seta-1-without-Seta-' + str(n_components) + 'D-LDM.csv', sep = ',', header=None).to_numpy()\n",
    "        R2_Seta_2_without = pd.read_csv('../results/' + data_tag + '-SLF-R2-Seta-2-without-Seta-' + str(n_components) + 'D-LDM.csv', sep = ',', header=None).to_numpy()\n",
    "\n",
    "        if n_components == 3:\n",
    "\n",
    "            costs_without_Seta_3 = pd.read_csv('../results/' + data_tag + '-SLF-cost-Seta-3-without-Seta-' + str(n_components) + 'D-LDM.csv', sep = ',', header=None).to_numpy()\n",
    "            costs_with_Seta_3 = pd.read_csv('../results/' + data_tag + '-SLF-cost-Seta-3-with-Seta-' + str(n_components) + 'D-LDM.csv', sep = ',', header=None).to_numpy()\n",
    "\n",
    "            NRMSE_Seta_3_with = pd.read_csv('../results/' + data_tag + '-SLF-NRMSE-Seta-3-with-Seta-' + str(n_components) + 'D-LDM.csv', sep = ',', header=None).to_numpy()\n",
    "            NRMSE_Seta_3_without = pd.read_csv('../results/' + data_tag + '-SLF-NRMSE-Seta-3-without-Seta-' + str(n_components) + 'D-LDM.csv', sep = ',', header=None).to_numpy()\n",
    "\n",
    "            R2_Seta_3_with = pd.read_csv('../results/' + data_tag + '-SLF-R2-Seta-3-with-Seta-' + str(n_components) + 'D-LDM.csv', sep = ',', header=None).to_numpy()\n",
    "            R2_Seta_3_without = pd.read_csv('../results/' + data_tag + '-SLF-R2-Seta-3-without-Seta-' + str(n_components) + 'D-LDM.csv', sep = ',', header=None).to_numpy()\n",
    "\n",
    "        # Plot current data: - - - - - - - - - - - - - - - - - - - - - - - - - - - - - - - - - - - - - - - - - - - - - - - - - - - - \n",
    "        \n",
    "        figure = fig.add_subplot(spec[n_components-2,j])\n",
    "        plt.scatter(costs_with_Seta_1, R2_Seta_1_with, s=s, c=cluster_colors[7].reshape(1,-1), linewidth=0)\n",
    "        plt.scatter(costs_with_Seta_2, R2_Seta_2_with, s=s, c=cluster_colors[7].reshape(1,-1), linewidth=0)\n",
    "        if n_components == 3: plt.scatter(costs_with_Seta_3, R2_Seta_3_with, s=s, c=cluster_colors[7].reshape(1,-1), linewidth=0)\n",
    "\n",
    "        plt.scatter(costs_without_Seta_1, R2_Seta_1_without, s=s, c=cluster_colors[1].reshape(1,-1), alpha=1, linewidth=0)\n",
    "        plt.scatter(costs_without_Seta_2, R2_Seta_2_without, s=s, c=cluster_colors[1].reshape(1,-1), alpha=1, linewidth=0)\n",
    "        if n_components == 3: plt.scatter(costs_without_Seta_3, R2_Seta_3_without, s=s, color=cluster_colors[1].reshape(1,-1), alpha=1, linewidth=0)\n",
    "\n",
    "        if n_components == 2: plt.ylim([0.3,1.08])\n",
    "        if n_components == 3: plt.ylim([0.6,1.02])\n",
    "            \n",
    "        if n_components == 3:\n",
    "            if j>0:\n",
    "                plt.ylim([0.8,1.01])\n",
    "            \n",
    "        plt.xscale('log')\n",
    "        plt.yscale('log')\n",
    "        plt.gca().spines['top'].set_visible(False)\n",
    "        plt.gca().spines['right'].set_visible(False)\n",
    "\n",
    "plt.savefig('../figures/kernel-regression.svg', dpi=300, bbox_inches='tight')"
   ]
  },
  {
   "cell_type": "markdown",
   "metadata": {},
   "source": [
    "***"
   ]
  }
 ],
 "metadata": {
  "kernelspec": {
   "display_name": "Python 3",
   "language": "python",
   "name": "python3"
  },
  "language_info": {
   "codemirror_mode": {
    "name": "ipython",
    "version": 3
   },
   "file_extension": ".py",
   "mimetype": "text/x-python",
   "name": "python",
   "nbconvert_exporter": "python",
   "pygments_lexer": "ipython3",
   "version": "3.7.6"
  }
 },
 "nbformat": 4,
 "nbformat_minor": 4
}
